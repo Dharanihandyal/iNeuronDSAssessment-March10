{
 "cells": [
  {
   "cell_type": "code",
   "execution_count": 1,
   "id": "965ffa46",
   "metadata": {
    "execution": {
     "iopub.execute_input": "2023-05-21T19:09:51.482850Z",
     "iopub.status.busy": "2023-05-21T19:09:51.481719Z",
     "iopub.status.idle": "2023-05-21T19:09:54.075693Z",
     "shell.execute_reply": "2023-05-21T19:09:54.074824Z"
    },
    "papermill": {
     "duration": 2.607145,
     "end_time": "2023-05-21T19:09:54.078215",
     "exception": false,
     "start_time": "2023-05-21T19:09:51.471070",
     "status": "completed"
    },
    "tags": []
   },
   "outputs": [],
   "source": [
    "import pandas as pd\n",
    "import numpy as np\n",
    "from sklearn.model_selection import train_test_split\n",
    "from sklearn.linear_model import LinearRegression\n",
    "from sklearn.metrics import mean_squared_error\n",
    "from sklearn.preprocessing import OneHotEncoder\n",
    "import re\n",
    "import matplotlib.pyplot as plt\n",
    "import seaborn as sns\n",
    "import plotly.express as px\n",
    "from wordcloud import WordCloud, STOPWORDS, ImageColorGenerator\n",
    "import warnings\n",
    "warnings.filterwarnings('ignore')\n"
   ]
  },
  {
   "cell_type": "code",
   "execution_count": 5,
   "id": "b3ea7c5d",
   "metadata": {
    "execution": {
     "iopub.execute_input": "2023-05-21T19:09:54.099090Z",
     "iopub.status.busy": "2023-05-21T19:09:54.098647Z",
     "iopub.status.idle": "2023-05-21T19:09:54.127514Z",
     "shell.execute_reply": "2023-05-21T19:09:54.126397Z"
    },
    "papermill": {
     "duration": 0.042662,
     "end_time": "2023-05-21T19:09:54.130479",
     "exception": false,
     "start_time": "2023-05-21T19:09:54.087817",
     "status": "completed"
    },
    "tags": []
   },
   "outputs": [
    {
     "data": {
      "text/html": [
       "<div>\n",
       "<style scoped>\n",
       "    .dataframe tbody tr th:only-of-type {\n",
       "        vertical-align: middle;\n",
       "    }\n",
       "\n",
       "    .dataframe tbody tr th {\n",
       "        vertical-align: top;\n",
       "    }\n",
       "\n",
       "    .dataframe thead th {\n",
       "        text-align: right;\n",
       "    }\n",
       "</style>\n",
       "<table border=\"1\" class=\"dataframe\">\n",
       "  <thead>\n",
       "    <tr style=\"text-align: right;\">\n",
       "      <th></th>\n",
       "      <th>Unnamed: 0</th>\n",
       "      <th>S.No</th>\n",
       "      <th>USERNAME</th>\n",
       "      <th>Caption</th>\n",
       "      <th>Followers</th>\n",
       "      <th>Hashtags</th>\n",
       "      <th>Time since posted</th>\n",
       "      <th>Likes</th>\n",
       "    </tr>\n",
       "  </thead>\n",
       "  <tbody>\n",
       "    <tr>\n",
       "      <th>0</th>\n",
       "      <td>0</td>\n",
       "      <td>1</td>\n",
       "      <td>mikequindazzi</td>\n",
       "      <td>Who are #DataScientist and what do they do? &gt;&gt;...</td>\n",
       "      <td>1600</td>\n",
       "      <td>#MachineLearning #AI #DataAnalytics #DataScien...</td>\n",
       "      <td>11 hours</td>\n",
       "      <td>139</td>\n",
       "    </tr>\n",
       "    <tr>\n",
       "      <th>1</th>\n",
       "      <td>1</td>\n",
       "      <td>2</td>\n",
       "      <td>drgorillapaints</td>\n",
       "      <td>We all know where itâs going. We just have t...</td>\n",
       "      <td>880</td>\n",
       "      <td>Â #deckÂ .#macÂ #macintosh#sayhelloÂ #appleÂ #...</td>\n",
       "      <td>2 hours</td>\n",
       "      <td>23</td>\n",
       "    </tr>\n",
       "    <tr>\n",
       "      <th>2</th>\n",
       "      <td>2</td>\n",
       "      <td>3</td>\n",
       "      <td>aitrading_official</td>\n",
       "      <td>Alexander Barinov: 4 years as CFO in multinati...</td>\n",
       "      <td>255</td>\n",
       "      <td>#whoiswhoÂ #aitradingÂ #aiÂ #aitradingteam#ins...</td>\n",
       "      <td>2 hours</td>\n",
       "      <td>25</td>\n",
       "    </tr>\n",
       "    <tr>\n",
       "      <th>3</th>\n",
       "      <td>3</td>\n",
       "      <td>4</td>\n",
       "      <td>opensourcedworkplace</td>\n",
       "      <td>sfad</td>\n",
       "      <td>340</td>\n",
       "      <td>#iotÂ #cre#workplaceÂ #CDOÂ #bigdataÂ #technol...</td>\n",
       "      <td>3 hours</td>\n",
       "      <td>49</td>\n",
       "    </tr>\n",
       "    <tr>\n",
       "      <th>4</th>\n",
       "      <td>4</td>\n",
       "      <td>5</td>\n",
       "      <td>crea.vision</td>\n",
       "      <td>Ever missed a call while your phone was chargi...</td>\n",
       "      <td>304</td>\n",
       "      <td>#instamachinelearningÂ #instabigdata#instamark...</td>\n",
       "      <td>3 hours</td>\n",
       "      <td>30</td>\n",
       "    </tr>\n",
       "  </tbody>\n",
       "</table>\n",
       "</div>"
      ],
      "text/plain": [
       "   Unnamed: 0  S.No              USERNAME  \\\n",
       "0           0     1         mikequindazzi   \n",
       "1           1     2       drgorillapaints   \n",
       "2           2     3    aitrading_official   \n",
       "3           3     4  opensourcedworkplace   \n",
       "4           4     5           crea.vision   \n",
       "\n",
       "                                             Caption  Followers  \\\n",
       "0  Who are #DataScientist and what do they do? >>...       1600   \n",
       "1  We all know where itâs going. We just have t...        880   \n",
       "2  Alexander Barinov: 4 years as CFO in multinati...        255   \n",
       "3                                               sfad        340   \n",
       "4  Ever missed a call while your phone was chargi...        304   \n",
       "\n",
       "                                            Hashtags Time since posted  Likes  \n",
       "0  #MachineLearning #AI #DataAnalytics #DataScien...          11 hours    139  \n",
       "1  Â #deckÂ .#macÂ #macintosh#sayhelloÂ #appleÂ #...           2 hours     23  \n",
       "2  #whoiswhoÂ #aitradingÂ #aiÂ #aitradingteam#ins...           2 hours     25  \n",
       "3  #iotÂ #cre#workplaceÂ #CDOÂ #bigdataÂ #technol...           3 hours     49  \n",
       "4  #instamachinelearningÂ #instabigdata#instamark...           3 hours     30  "
      ]
     },
     "execution_count": 5,
     "metadata": {},
     "output_type": "execute_result"
    }
   ],
   "source": [
    "data = pd.read_csv(\"instagram_reach.csv\", encoding = 'latin1')\n",
    "data.head()"
   ]
  },
  {
   "cell_type": "code",
   "execution_count": 6,
   "id": "fcb51024",
   "metadata": {
    "execution": {
     "iopub.execute_input": "2023-05-21T19:09:54.212769Z",
     "iopub.status.busy": "2023-05-21T19:09:54.211966Z",
     "iopub.status.idle": "2023-05-21T19:09:54.218744Z",
     "shell.execute_reply": "2023-05-21T19:09:54.217826Z"
    },
    "papermill": {
     "duration": 0.021259,
     "end_time": "2023-05-21T19:09:54.221054",
     "exception": false,
     "start_time": "2023-05-21T19:09:54.199795",
     "status": "completed"
    },
    "tags": []
   },
   "outputs": [
    {
     "data": {
      "text/plain": [
       "(100, 8)"
      ]
     },
     "execution_count": 6,
     "metadata": {},
     "output_type": "execute_result"
    }
   ],
   "source": [
    "data.shape"
   ]
  },
  {
   "cell_type": "code",
   "execution_count": 7,
   "id": "e0fd8a8d",
   "metadata": {
    "execution": {
     "iopub.execute_input": "2023-05-21T19:09:54.243493Z",
     "iopub.status.busy": "2023-05-21T19:09:54.242675Z",
     "iopub.status.idle": "2023-05-21T19:09:54.270867Z",
     "shell.execute_reply": "2023-05-21T19:09:54.269632Z"
    },
    "papermill": {
     "duration": 0.042401,
     "end_time": "2023-05-21T19:09:54.273450",
     "exception": false,
     "start_time": "2023-05-21T19:09:54.231049",
     "status": "completed"
    },
    "tags": []
   },
   "outputs": [
    {
     "name": "stdout",
     "output_type": "stream",
     "text": [
      "<class 'pandas.core.frame.DataFrame'>\n",
      "RangeIndex: 100 entries, 0 to 99\n",
      "Data columns (total 8 columns):\n",
      " #   Column             Non-Null Count  Dtype \n",
      "---  ------             --------------  ----- \n",
      " 0   Unnamed: 0         100 non-null    int64 \n",
      " 1   S.No               100 non-null    int64 \n",
      " 2   USERNAME           100 non-null    object\n",
      " 3   Caption            94 non-null     object\n",
      " 4   Followers          100 non-null    int64 \n",
      " 5   Hashtags           100 non-null    object\n",
      " 6   Time since posted  100 non-null    object\n",
      " 7   Likes              100 non-null    int64 \n",
      "dtypes: int64(4), object(4)\n",
      "memory usage: 6.4+ KB\n"
     ]
    }
   ],
   "source": [
    "data.info()"
   ]
  },
  {
   "cell_type": "code",
   "execution_count": 8,
   "id": "f90f90e3",
   "metadata": {
    "execution": {
     "iopub.execute_input": "2023-05-21T19:09:54.296264Z",
     "iopub.status.busy": "2023-05-21T19:09:54.295849Z",
     "iopub.status.idle": "2023-05-21T19:09:54.304423Z",
     "shell.execute_reply": "2023-05-21T19:09:54.303221Z"
    },
    "papermill": {
     "duration": 0.022985,
     "end_time": "2023-05-21T19:09:54.306840",
     "exception": false,
     "start_time": "2023-05-21T19:09:54.283855",
     "status": "completed"
    },
    "tags": []
   },
   "outputs": [
    {
     "data": {
      "text/plain": [
       "Unnamed: 0           0\n",
       "S.No                 0\n",
       "USERNAME             0\n",
       "Caption              6\n",
       "Followers            0\n",
       "Hashtags             0\n",
       "Time since posted    0\n",
       "Likes                0\n",
       "dtype: int64"
      ]
     },
     "execution_count": 8,
     "metadata": {},
     "output_type": "execute_result"
    }
   ],
   "source": [
    "data.isnull().sum()"
   ]
  },
  {
   "cell_type": "code",
   "execution_count": 9,
   "id": "dfb46f4d",
   "metadata": {
    "execution": {
     "iopub.execute_input": "2023-05-21T19:09:54.328871Z",
     "iopub.status.busy": "2023-05-21T19:09:54.328486Z",
     "iopub.status.idle": "2023-05-21T19:09:54.336644Z",
     "shell.execute_reply": "2023-05-21T19:09:54.335347Z"
    },
    "papermill": {
     "duration": 0.022668,
     "end_time": "2023-05-21T19:09:54.339471",
     "exception": false,
     "start_time": "2023-05-21T19:09:54.316803",
     "status": "completed"
    },
    "tags": []
   },
   "outputs": [],
   "source": [
    "data = data.dropna()"
   ]
  },
  {
   "cell_type": "code",
   "execution_count": 10,
   "id": "ed81ad69",
   "metadata": {
    "execution": {
     "iopub.execute_input": "2023-05-21T19:09:54.361648Z",
     "iopub.status.busy": "2023-05-21T19:09:54.361248Z",
     "iopub.status.idle": "2023-05-21T19:09:54.370106Z",
     "shell.execute_reply": "2023-05-21T19:09:54.369280Z"
    },
    "papermill": {
     "duration": 0.023001,
     "end_time": "2023-05-21T19:09:54.372684",
     "exception": false,
     "start_time": "2023-05-21T19:09:54.349683",
     "status": "completed"
    },
    "tags": []
   },
   "outputs": [
    {
     "data": {
      "text/plain": [
       "Unnamed: 0           0\n",
       "S.No                 0\n",
       "USERNAME             0\n",
       "Caption              0\n",
       "Followers            0\n",
       "Hashtags             0\n",
       "Time since posted    0\n",
       "Likes                0\n",
       "dtype: int64"
      ]
     },
     "execution_count": 10,
     "metadata": {},
     "output_type": "execute_result"
    }
   ],
   "source": [
    "data.isnull().sum()"
   ]
  },
  {
   "cell_type": "markdown",
   "id": "9a82a33c",
   "metadata": {
    "papermill": {
     "duration": 0.011373,
     "end_time": "2023-05-21T19:09:54.568977",
     "exception": false,
     "start_time": "2023-05-21T19:09:54.557604",
     "status": "completed"
    },
    "tags": []
   },
   "source": [
    "## Doing EDA and Analyzing Instagram Reach"
   ]
  },
  {
   "cell_type": "code",
   "execution_count": 16,
   "id": "d1099a2a",
   "metadata": {
    "execution": {
     "iopub.execute_input": "2023-05-21T19:09:55.003449Z",
     "iopub.status.busy": "2023-05-21T19:09:55.003060Z",
     "iopub.status.idle": "2023-05-21T19:09:55.366439Z",
     "shell.execute_reply": "2023-05-21T19:09:55.364976Z"
    },
    "papermill": {
     "duration": 0.380616,
     "end_time": "2023-05-21T19:09:55.370317",
     "exception": false,
     "start_time": "2023-05-21T19:09:54.989701",
     "status": "completed"
    },
    "tags": []
   },
   "outputs": [
    {
     "data": {
      "image/png": "[encoded data removed]",
      "text/plain": [
       "<Figure size 1000x800 with 1 Axes>"
      ]
     },
     "metadata": {},
     "output_type": "display_data"
    }
   ],
   "source": [
    "## Distribution of Impressions From Likes\n",
    "\n",
    "plt.figure(figsize=(10, 8))\n",
    "plt.title(\"Distribution of Impressions From Likes\")\n",
    "sns.distplot(data['Likes'])\n",
    "plt.show()\n"
   ]
  },
  {
   "cell_type": "code",
   "execution_count": 25,
   "id": "6d9e4ad4",
   "metadata": {
    "execution": {
     "iopub.execute_input": "2023-05-21T19:09:57.875244Z",
     "iopub.status.busy": "2023-05-21T19:09:57.874013Z",
     "iopub.status.idle": "2023-05-21T19:09:59.768466Z",
     "shell.execute_reply": "2023-05-21T19:09:59.767555Z"
    },
    "papermill": {
     "duration": 1.916187,
     "end_time": "2023-05-21T19:09:59.770925",
     "exception": false,
     "start_time": "2023-05-21T19:09:57.854738",
     "status": "completed"
    },
    "tags": []
   },
   "outputs": [
    {
     "data": {
      "image/png": "[encoded data removed]",
      "text/plain": [
       "<Figure size 1000x600 with 1 Axes>"
      ]
     },
     "metadata": {},
     "output_type": "display_data"
    }
   ],
   "source": [
    "\n",
    "data['Time since posted\t'] = data['Time since posted'].str.extract('(\\d+)').astype(float)\n",
    "\n",
    "plt.figure(figsize=(10, 6))\n",
    "plt.scatter(data['Likes'], data['Time since posted'], alpha=0.5)\n",
    "plt.title('Scatter Plot: Likes vs Time Since Posted')\n",
    "plt.xlabel('Likes')\n",
    "plt.ylabel('Time Since Posted (hours)')\n",
    "plt.grid(True)\n",
    "plt.show()"
   ]
  },
  {
   "cell_type": "code",
   "execution_count": 28,
   "id": "8df1d064",
   "metadata": {
    "execution": {
     "iopub.execute_input": "2023-05-21T19:09:59.809994Z",
     "iopub.status.busy": "2023-05-21T19:09:59.809198Z",
     "iopub.status.idle": "2023-05-21T19:09:59.814413Z",
     "shell.execute_reply": "2023-05-21T19:09:59.813641Z"
    },
    "papermill": {
     "duration": 0.026976,
     "end_time": "2023-05-21T19:09:59.816740",
     "exception": false,
     "start_time": "2023-05-21T19:09:59.789764",
     "status": "completed"
    },
    "tags": []
   },
   "outputs": [],
   "source": [
    "features = ['USERNAME', 'Caption', 'Hashtags', 'Followers']\n",
    "target_likes = 'Likes'\n",
    "target_time_since_posted = 'Time since posted'\n"
   ]
  },
  {
   "cell_type": "code",
   "execution_count": 29,
   "id": "90dfb348",
   "metadata": {
    "execution": {
     "iopub.execute_input": "2023-05-21T19:09:59.855278Z",
     "iopub.status.busy": "2023-05-21T19:09:59.854427Z",
     "iopub.status.idle": "2023-05-21T19:09:59.863689Z",
     "shell.execute_reply": "2023-05-21T19:09:59.862815Z"
    },
    "papermill": {
     "duration": 0.031594,
     "end_time": "2023-05-21T19:09:59.866189",
     "exception": false,
     "start_time": "2023-05-21T19:09:59.834595",
     "status": "completed"
    },
    "tags": []
   },
   "outputs": [],
   "source": [
    "X = data[features]\n",
    "y_likes = data[target_likes]\n",
    "y_time_since_posted = data[target_time_since_posted]\n",
    "X_train, X_test, y_likes_train, y_likes_test, y_time_since_posted_train, y_time_since_posted_test = train_test_split(X, y_likes, y_time_since_posted, test_size=0.2, random_state=42)\n"
   ]
  },
  {
   "cell_type": "code",
   "execution_count": 30,
   "id": "cbfcbe9f",
   "metadata": {
    "execution": {
     "iopub.execute_input": "2023-05-21T19:09:59.904319Z",
     "iopub.status.busy": "2023-05-21T19:09:59.903926Z",
     "iopub.status.idle": "2023-05-21T19:09:59.919937Z",
     "shell.execute_reply": "2023-05-21T19:09:59.918837Z"
    },
    "papermill": {
     "duration": 0.038548,
     "end_time": "2023-05-21T19:09:59.922837",
     "exception": false,
     "start_time": "2023-05-21T19:09:59.884289",
     "status": "completed"
    },
    "tags": []
   },
   "outputs": [],
   "source": [
    "encoder = OneHotEncoder(sparse=False, handle_unknown='ignore')\n",
    "X_train_encoded = encoder.fit_transform(X_train)\n",
    "X_test_encoded = encoder.transform(X_test)\n"
   ]
  },
  {
   "cell_type": "markdown",
   "id": "262f9cca",
   "metadata": {
    "papermill": {
     "duration": 0.017621,
     "end_time": "2023-05-21T19:09:59.959071",
     "exception": false,
     "start_time": "2023-05-21T19:09:59.941450",
     "status": "completed"
    },
    "tags": []
   },
   "source": [
    "## Train a model to predict the number of likes:"
   ]
  },
  {
   "cell_type": "code",
   "execution_count": 31,
   "id": "8b52485d",
   "metadata": {
    "execution": {
     "iopub.execute_input": "2023-05-21T19:09:59.996669Z",
     "iopub.status.busy": "2023-05-21T19:09:59.996234Z",
     "iopub.status.idle": "2023-05-21T19:10:00.027258Z",
     "shell.execute_reply": "2023-05-21T19:10:00.025722Z"
    },
    "papermill": {
     "duration": 0.054452,
     "end_time": "2023-05-21T19:10:00.031369",
     "exception": false,
     "start_time": "2023-05-21T19:09:59.976917",
     "status": "completed"
    },
    "tags": []
   },
   "outputs": [
    {
     "name": "stdout",
     "output_type": "stream",
     "text": [
      "Mean Squared Error (Likes): 1820.5001482234584\n"
     ]
    }
   ],
   "source": [
    "likes_model = LinearRegression()\n",
    "likes_model.fit(X_train_encoded, y_likes_train)\n",
    "likes_predictions = likes_model.predict(X_test_encoded)\n",
    "likes_mse = mean_squared_error(y_likes_test, likes_predictions)\n",
    "print(\"Mean Squared Error (Likes):\", likes_mse)"
   ]
  },
  {
   "cell_type": "markdown",
   "id": "e1cddb62",
   "metadata": {
    "papermill": {
     "duration": 0.036424,
     "end_time": "2023-05-21T19:10:00.104179",
     "exception": false,
     "start_time": "2023-05-21T19:10:00.067755",
     "status": "completed"
    },
    "tags": []
   },
   "source": [
    "## Train a model to predict the time since posted"
   ]
  },
  {
   "cell_type": "code",
   "execution_count": 32,
   "id": "e620a00f",
   "metadata": {
    "execution": {
     "iopub.execute_input": "2023-05-21T19:10:00.159009Z",
     "iopub.status.busy": "2023-05-21T19:10:00.158612Z",
     "iopub.status.idle": "2023-05-21T19:10:00.163927Z",
     "shell.execute_reply": "2023-05-21T19:10:00.163069Z"
    },
    "papermill": {
     "duration": 0.027165,
     "end_time": "2023-05-21T19:10:00.166190",
     "exception": false,
     "start_time": "2023-05-21T19:10:00.139025",
     "status": "completed"
    },
    "tags": []
   },
   "outputs": [],
   "source": [
    "def extract_numerical_value(time_string):\n",
    "    numerical_value = re.findall(r'\\d+', time_string)[0]\n",
    "    return int(numerical_value)"
   ]
  },
  {
   "cell_type": "code",
   "execution_count": 33,
   "id": "1a79302c",
   "metadata": {
    "execution": {
     "iopub.execute_input": "2023-05-21T19:10:00.205720Z",
     "iopub.status.busy": "2023-05-21T19:10:00.205298Z",
     "iopub.status.idle": "2023-05-21T19:10:00.211793Z",
     "shell.execute_reply": "2023-05-21T19:10:00.210376Z"
    },
    "papermill": {
     "duration": 0.029445,
     "end_time": "2023-05-21T19:10:00.214124",
     "exception": false,
     "start_time": "2023-05-21T19:10:00.184679",
     "status": "completed"
    },
    "tags": []
   },
   "outputs": [],
   "source": [
    "y_time_since_posted_train = y_time_since_posted_train.apply(extract_numerical_value)\n",
    "y_time_since_posted_test = y_time_since_posted_test.apply(extract_numerical_value)\n"
   ]
  },
  {
   "cell_type": "code",
   "execution_count": 35,
   "id": "7f7cb290",
   "metadata": {
    "execution": {
     "iopub.execute_input": "2023-05-21T19:10:00.252273Z",
     "iopub.status.busy": "2023-05-21T19:10:00.251818Z",
     "iopub.status.idle": "2023-05-21T19:10:00.269920Z",
     "shell.execute_reply": "2023-05-21T19:10:00.268158Z"
    },
    "papermill": {
     "duration": 0.041845,
     "end_time": "2023-05-21T19:10:00.274159",
     "exception": false,
     "start_time": "2023-05-21T19:10:00.232314",
     "status": "completed"
    },
    "tags": []
   },
   "outputs": [
    {
     "name": "stdout",
     "output_type": "stream",
     "text": [
      "Mean Squared Error (Time Since Posted): 13.455768872135062\n"
     ]
    }
   ],
   "source": [
    "time_since_posted_model = LinearRegression()\n",
    "time_since_posted_model.fit(X_train_encoded, y_time_since_posted_train)\n",
    "time_since_posted_predictions = time_since_posted_model.predict(X_test_encoded)\n",
    "time_since_posted_mse = mean_squared_error(y_time_since_posted_test, time_since_posted_predictions)\n",
    "print(\"Mean Squared Error (Time Since Posted):\", time_since_posted_mse)"
   ]
  }
 ],
 "metadata": {
  "kernelspec": {
   "display_name": "Python 3 (ipykernel)",
   "language": "python",
   "name": "python3"
  },
  "language_info": {
   "codemirror_mode": {
    "name": "ipython",
    "version": 3
   },
   "file_extension": ".py",
   "mimetype": "text/x-python",
   "name": "python",
   "nbconvert_exporter": "python",
   "pygments_lexer": "ipython3",
   "version": "3.11.3"
  },
  "papermill": {
   "default_parameters": {},
   "duration": 22.666225,
   "end_time": "2023-05-21T19:10:01.609123",
   "environment_variables": {},
   "exception": null,
   "input_path": "__notebook__.ipynb",
   "output_path": "__notebook__.ipynb",
   "parameters": {},
   "start_time": "2023-05-21T19:09:38.942898",
   "version": "2.4.0"
  }
 },
 "nbformat": 4,
 "nbformat_minor": 5
}
