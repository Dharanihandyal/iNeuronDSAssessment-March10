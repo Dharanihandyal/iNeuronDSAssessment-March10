{
 "cells": [
  {
   "cell_type": "markdown",
   "id": "69e2af93",
   "metadata": {},
   "source": [
    "# PYTHON\n",
    "\n",
    "## Question: 1\n",
    "\n",
    "You have an input dictionary given,\n",
    "\n",
    "input_dict = {\"abc\":{\"def\":{\"ghi\":{\"jkl\":{\"mno\":{\"pqr\":{\"stu\":{\"vwx\":{\"yz\":\"you are finally here !!!\"}}}}}}}}}\n",
    "\n",
    "Task:  You have to write a Python function that will take this input and print it like that,\n",
    "\n",
    "output = {\"abc\":[\"def\",\"ghi\",\"jkl\",\"mno\",\"pqr\",\"stu\",\"vwx\",\"yz\"],\n",
    " \"def\":[\"ghi\",\"jkl\",\"mno\",\"pqr\",\"stu\",\"vwx\",\"yz\"],\n",
    " \"ghi\":[\"jkl\",\"mno\",\"pqr\",\"stu\",\"vwx\",\"yz\"],\n",
    " \"jkl\":[\"mno\",\"pqr\",\"stu\",\"vwx\",\"yz\"],\n",
    " \"mno\":[\"pqr\",\"stu\",\"vwx\",\"yz\"],\n",
    " \"pqr\":[\"stu\",\"vwx\",\"yz\"],\n",
    " \"stu\":[\"vwx\",\"yz\"],\n",
    " \"vwx\":[\"yz\"],\n",
    " \"yz\":[\"you are finally here !!!\"]}"
   ]
  },
  {
   "cell_type": "code",
   "execution_count": 52,
   "id": "9432f518",
   "metadata": {},
   "outputs": [
    {
     "name": "stdout",
     "output_type": "stream",
     "text": [
      "{'abc': {'def': {'ghi': {'jkl': {'mno': {'pqr': {'stu': {'vwx': {'yz': 'you are finally here !!!'}}}}}}}}}\n"
     ]
    }
   ],
   "source": [
    "input_dict = {\"abc\":{\"def\":{\"ghi\":{\"jkl\":{\"mno\":{\"pqr\":{\"stu\":{\"vwx\":{\"yz\":\"you are finally here !!!\"}}}}}}}}}\n",
    "print(input_dict)"
   ]
  },
  {
   "cell_type": "code",
   "execution_count": 78,
   "id": "4f25c6af",
   "metadata": {},
   "outputs": [
    {
     "name": "stdout",
     "output_type": "stream",
     "text": [
      "{\n",
      "    \"abc\": [\n",
      "        \"def\",\n",
      "        \"ghi\",\n",
      "        \"jkl\",\n",
      "        \"mno\",\n",
      "        \"pqr\",\n",
      "        \"stu\",\n",
      "        \"vwx\",\n",
      "        \"yz\"\n",
      "    ],\n",
      "    \"def\": [\n",
      "        \"ghi\",\n",
      "        \"jkl\",\n",
      "        \"mno\",\n",
      "        \"pqr\",\n",
      "        \"stu\",\n",
      "        \"vwx\",\n",
      "        \"yz\"\n",
      "    ],\n",
      "    \"ghi\": [\n",
      "        \"jkl\",\n",
      "        \"mno\",\n",
      "        \"pqr\",\n",
      "        \"stu\",\n",
      "        \"vwx\",\n",
      "        \"yz\"\n",
      "    ],\n",
      "    \"jkl\": [\n",
      "        \"mno\",\n",
      "        \"pqr\",\n",
      "        \"stu\",\n",
      "        \"vwx\",\n",
      "        \"yz\"\n",
      "    ],\n",
      "    \"mno\": [\n",
      "        \"pqr\",\n",
      "        \"stu\",\n",
      "        \"vwx\",\n",
      "        \"yz\"\n",
      "    ],\n",
      "    \"pqr\": [\n",
      "        \"stu\",\n",
      "        \"vwx\",\n",
      "        \"yz\"\n",
      "    ],\n",
      "    \"stu\": [\n",
      "        \"vwx\",\n",
      "        \"yz\"\n",
      "    ],\n",
      "    \"vwx\": [\n",
      "        \"yz\"\n",
      "    ],\n",
      "    \"yz\": [\n",
      "        \"you are finally here !!!\"\n",
      "    ]\n",
      "}\n"
     ]
    }
   ],
   "source": [
    "import json\n",
    "\n",
    "\n",
    "def formatted(data):\n",
    "    result_dict = {}\n",
    "    for k, v in data.items():\n",
    "        if isinstance(v, dict):\n",
    "            d = formatted(v)\n",
    "            result_dict[k] = list((d))\n",
    "            result_dict.update(d)\n",
    "        else:\n",
    "            result_dict[k] = [v]\n",
    "    return result_dict\n",
    "\n",
    "result_json = json.dumps(formatted(input_dict), indent=4)\n",
    "print(result_json)\n",
    "\n",
    "# I can print line by line as mentioned in the question. but to maintain (\"\") double quotes for each string as shown in output, i'm printing it with indent."
   ]
  },
  {
   "cell_type": "markdown",
   "id": "a6ca8ee9",
   "metadata": {},
   "source": [
    "## Question: 2\n",
    "\n",
    "Given an array of length ‘N’, where each element denotes the position of a stall. Now you have ‘N’ stalls and an integer ‘K’ which denotes the number of horses that are mad. To prevent the horses from hurting each other, you need to assign the horses to the stalls, such that the minimum distance between any two of them is as large as possible. Return the largest minimum distance.\n",
    "\n",
    "array: 1,2,4,8,9  &  k=3\n",
    "\n",
    "O/P: 3"
   ]
  },
  {
   "cell_type": "code",
   "execution_count": 82,
   "id": "c6f203c4",
   "metadata": {},
   "outputs": [],
   "source": [
    "array = [1, 2, 4, 8, 9]\n",
    "k = 3"
   ]
  },
  {
   "cell_type": "code",
   "execution_count": 84,
   "id": "b6abf960",
   "metadata": {},
   "outputs": [
    {
     "name": "stdout",
     "output_type": "stream",
     "text": [
      "3\n"
     ]
    }
   ],
   "source": [
    "def largest_min_distance(stalls, k):    \n",
    "    def is_valid(distance):\n",
    "        horses_placed = 1\n",
    "        last_position = stalls[0]\n",
    "        \n",
    "        for position in stalls:\n",
    "            if position - last_position >= distance:\n",
    "                horses_placed += 1\n",
    "                last_position = position\n",
    "                \n",
    "        return horses_placed >= k\n",
    "    \n",
    "    low, high = 0, stalls[-1] - stalls[0]\n",
    "    \n",
    "    while low <= high:\n",
    "        mid = (low + high) // 2\n",
    "        \n",
    "        if is_valid(mid):\n",
    "            low = mid + 1\n",
    "        else:\n",
    "            high = mid - 1\n",
    "    \n",
    "    return high\n",
    "\n",
    "output = largest_min_distance(array, k)\n",
    "print(output)\n"
   ]
  },
  {
   "cell_type": "markdown",
   "id": "3341dccd",
   "metadata": {},
   "source": [
    "# Question: 3\n",
    "\n",
    "Mr. Karthiken works in a door mat manufacturing company. One day, he designed a new door mat with the following specifications:\n",
    "\n",
    "             a) Mat size must be N X M. (N is an odd natural number, and M is 3 times N.)\n",
    "              b) The design should have ‘WELCOME’ written in the center.\n",
    "              c) The design pattern should only use |, . and – characters.\n",
    "\n",
    "    Sample Design is given above image, Write a python code for this."
   ]
  },
  {
   "cell_type": "code",
   "execution_count": 87,
   "id": "a2cd5bad",
   "metadata": {},
   "outputs": [
    {
     "name": "stdout",
     "output_type": "stream",
     "text": [
      "11 33\n",
      "---------------.|.---------------\n",
      "------------.|..|..|.------------\n",
      "---------.|..|..|..|..|.---------\n",
      "------.|..|..|..|..|..|..|.------\n",
      "---.|..|..|..|..|..|..|..|..|.---\n",
      "-------------WELCOME-------------\n",
      "---.|..|..|..|..|..|..|..|..|.---\n",
      "------.|..|..|..|..|..|..|.------\n",
      "---------.|..|..|..|..|.---------\n",
      "------------.|..|..|.------------\n",
      "---------------.|.---------------\n"
     ]
    }
   ],
   "source": [
    "import math\n",
    "\n",
    "N, M = map(int, input().split())\n",
    "\n",
    "for i in range(1, N, 2):\n",
    "    pattern = '.|.' * i\n",
    "    print(pattern.center(M, '-'))\n",
    "\n",
    "print('WELCOME'.center(M, '-'))\n",
    "\n",
    "for i in range(N-2, 0, -2):\n",
    "    pattern = '.|.' * i\n",
    "    print(pattern.center(M, '-'))\n"
   ]
  },
  {
   "cell_type": "markdown",
   "id": "9f4e922e",
   "metadata": {},
   "source": [
    "# Question: 4\n",
    "\n",
    "Given an array nums of n integers, return an array of all the unique quadruplets [nums[a], nums[b], nums[c], nums[d]] such that:\n",
    "\n",
    "   a) 0 <= a, b, c, d < n\n",
    "   b) a, b, c, and d are distinct.\n",
    "   c) nums[a] + nums[b] + nums[c] + nums[d] == target"
   ]
  },
  {
   "cell_type": "code",
   "execution_count": 94,
   "id": "6fa0a2f3",
   "metadata": {},
   "outputs": [],
   "source": [
    "from typing import List"
   ]
  },
  {
   "cell_type": "code",
   "execution_count": 96,
   "id": "72ce552c",
   "metadata": {},
   "outputs": [
    {
     "name": "stdout",
     "output_type": "stream",
     "text": [
      "Enter a list of integers separated by space: 3 5 8 4 2 1 5 7 \n",
      "Enter the target sum: 23\n",
      "FourSum result: [[3, 5, 7, 8]]\n"
     ]
    }
   ],
   "source": [
    "from typing import List\n",
    "\n",
    "class FourSumSolver:\n",
    "    def fourSum(self, nums: List[int], target: int) -> List[List[int]]:\n",
    "        n = len(nums)\n",
    "        nums.sort()\n",
    "        result = []\n",
    "        \n",
    "        for i in range(n):\n",
    "            if i > 0 and nums[i] == nums[i - 1]:\n",
    "                continue\n",
    "            for j in range(i + 1, n):\n",
    "                if j > i + 1 and nums[j] == nums[j - 1]:\n",
    "                    continue\n",
    "                \n",
    "                k, l = j + 1, n - 1\n",
    "                while k < l:\n",
    "                    current_sum = nums[i] + nums[j] + nums[k] + nums[l]\n",
    "                   \n",
    "                    if current_sum == target:\n",
    "                        ans = [nums[i], nums[j], nums[k], nums[l]]\n",
    "                        result.append(ans)\n",
    "                       \n",
    "                        k += 1\n",
    "                        l -= 1\n",
    "                        \n",
    "                        while k < l and nums[k] == nums[k - 1]:\n",
    "                            k += 1\n",
    "                        while k < l and nums[l] == nums[l + 1]:\n",
    "                            l -= 1\n",
    "                    \n",
    "                    elif current_sum < target:\n",
    "                        k += 1\n",
    "                    \n",
    "                    else:\n",
    "                        l -= 1\n",
    "        \n",
    "        return result\n",
    "\n",
    "# Example usage\n",
    "solver = FourSumSolver()\n",
    "nums_input = input(\"Enter a list of integers separated by space: \")\n",
    "nums = list(map(int, nums_input.split()))\n",
    "target = int(input(\"Enter the target sum: \"))\n",
    "\n",
    "result = solver.fourSum(nums, target)\n",
    "print(\"FourSum result:\", result)\n"
   ]
  }
 ],
 "metadata": {
  "kernelspec": {
   "display_name": "Python 3 (ipykernel)",
   "language": "python",
   "name": "python3"
  },
  "language_info": {
   "codemirror_mode": {
    "name": "ipython",
    "version": 3
   },
   "file_extension": ".py",
   "mimetype": "text/x-python",
   "name": "python",
   "nbconvert_exporter": "python",
   "pygments_lexer": "ipython3",
   "version": "3.11.3"
  }
 },
 "nbformat": 4,
 "nbformat_minor": 5
}
